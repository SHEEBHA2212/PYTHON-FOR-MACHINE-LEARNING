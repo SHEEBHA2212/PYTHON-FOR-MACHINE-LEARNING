{
 "cells": [
  {
   "cell_type": "code",
   "execution_count": 2,
   "id": "e024f884",
   "metadata": {},
   "outputs": [
    {
     "name": "stdout",
     "output_type": "stream",
     "text": [
      "today-now function: 2025-04-07 12:45:17.105397\n"
     ]
    }
   ],
   "source": [
    "import datetime\n",
    "a=datetime.datetime.now()\n",
    "print(\"today-now function:\",a)"
   ]
  },
  {
   "cell_type": "code",
   "execution_count": 3,
   "id": "102deb7a",
   "metadata": {},
   "outputs": [
    {
     "name": "stdout",
     "output_type": "stream",
     "text": [
      "\n",
      "today:  2025-04-07 12:45:35.345179\n"
     ]
    }
   ],
   "source": [
    "today=datetime.datetime.today()\n",
    "print(\"\\ntoday: \",today)\n"
   ]
  },
  {
   "cell_type": "code",
   "execution_count": 4,
   "id": "5f76cee5",
   "metadata": {},
   "outputs": [
    {
     "name": "stdout",
     "output_type": "stream",
     "text": [
      "\n",
      "tomorrow: 2025-04-10 12:45:35.345179\n"
     ]
    }
   ],
   "source": [
    "tomorrow=today+datetime.timedelta(days=3)\n",
    "print(\"\\ntomorrow:\",tomorrow)\n"
   ]
  },
  {
   "cell_type": "code",
   "execution_count": 5,
   "id": "83818e08",
   "metadata": {},
   "outputs": [
    {
     "name": "stdout",
     "output_type": "stream",
     "text": [
      "\n",
      "yesterday:  2025-04-05 12:45:35.345179\n"
     ]
    }
   ],
   "source": [
    "yesterday=today-datetime.timedelta(days=2)\n",
    "print(\"\\nyesterday: \",yesterday)\n"
   ]
  },
  {
   "cell_type": "code",
   "execution_count": 6,
   "id": "e6d6cf57",
   "metadata": {},
   "outputs": [
    {
     "name": "stdout",
     "output_type": "stream",
     "text": [
      "\n",
      "date format [2020,6,8,23,10,25,404040):  2020-06-08 23:10:25.404040\n"
     ]
    }
   ],
   "source": [
    "a=datetime.datetime.now()\n",
    "b=datetime.datetime(2020,6,8,23,10,25,404040)\n",
    "print(\"\\ndate format [2020,6,8,23,10,25,404040): \",b)\n"
   ]
  },
  {
   "cell_type": "code",
   "execution_count": 7,
   "id": "e5178a57",
   "metadata": {},
   "outputs": [
    {
     "name": "stdout",
     "output_type": "stream",
     "text": [
      "\n",
      "Replacing date 2024-12-31 2024-12-15\n"
     ]
    }
   ],
   "source": [
    "from datetime import date\n",
    "d=date(2024, 12, 31) \n",
    "print(\"\\nReplacing date\",d,d.replace(day=15))\n"
   ]
  },
  {
   "cell_type": "code",
   "execution_count": 8,
   "id": "238f1659",
   "metadata": {},
   "outputs": [
    {
     "name": "stdout",
     "output_type": "stream",
     "text": [
      "\n",
      "Day and Month: 2004-04-17 Sat Apr 17 00:00:00 2004\n"
     ]
    }
   ],
   "source": [
    "t=date(2004,4,17)\n",
    "d=date(2004,4,17).ctime() \n",
    "print(\"\\nDay and Month:\",t,d)\n"
   ]
  },
  {
   "cell_type": "code",
   "execution_count": 9,
   "id": "0c77e131",
   "metadata": {},
   "outputs": [
    {
     "name": "stdout",
     "output_type": "stream",
     "text": [
      "\n",
      "Today: 2025-04-07\n",
      "Current year: 2025\n",
      "Current month: 4\n",
      "Current day: 7\n"
     ]
    }
   ],
   "source": [
    "today=date.today()\n",
    "print(\"\\nToday:\",today)\n",
    "print(\"Current year:\", today.year)\n",
    "print(\"Current month:\", today.month)\n",
    "print(\"Current day:\",today.day)\n"
   ]
  },
  {
   "cell_type": "code",
   "execution_count": 10,
   "id": "be453063",
   "metadata": {},
   "outputs": [
    {
     "name": "stdout",
     "output_type": "stream",
     "text": [
      "2025-04-07 12:48:12.424939\n"
     ]
    }
   ],
   "source": [
    "import datetime\n",
    "cd=datetime.datetime.now()\n",
    "print(cd)\n"
   ]
  },
  {
   "cell_type": "code",
   "execution_count": 11,
   "id": "e3ccbb51",
   "metadata": {},
   "outputs": [
    {
     "name": "stdout",
     "output_type": "stream",
     "text": [
      "\n",
      "Two-digit year: 25\n"
     ]
    }
   ],
   "source": [
    "res=cd.strftime(\"%y\") \n",
    "print(\"\\nTwo-digit year:\", res)\n"
   ]
  },
  {
   "cell_type": "code",
   "execution_count": 12,
   "id": "478618d3",
   "metadata": {},
   "outputs": [
    {
     "name": "stdout",
     "output_type": "stream",
     "text": [
      "\n",
      "Four-digit year: 2025\n"
     ]
    }
   ],
   "source": [
    "res1=cd.strftime(\"%Y\") \n",
    "print(\"\\nFour-digit year:\", res1)\n"
   ]
  },
  {
   "cell_type": "code",
   "execution_count": 13,
   "id": "b80a83d9",
   "metadata": {},
   "outputs": [
    {
     "name": "stdout",
     "output_type": "stream",
     "text": [
      "\n",
      "Two-digit month [01, 12]: 04\n"
     ]
    }
   ],
   "source": [
    "res=cd.strftime(\"%m\") \n",
    "print(\"\\nTwo-digit month [01, 12]:\",res)\n"
   ]
  },
  {
   "cell_type": "code",
   "execution_count": 14,
   "id": "7b6f3b5c",
   "metadata": {},
   "outputs": [
    {
     "name": "stdout",
     "output_type": "stream",
     "text": [
      "\n",
      "Short version of month Apr\n"
     ]
    }
   ],
   "source": [
    "res=cd.strftime(\"%b\")\n",
    "print(\"\\nShort version of month\", res)\n"
   ]
  },
  {
   "cell_type": "code",
   "execution_count": 15,
   "id": "f74da560",
   "metadata": {},
   "outputs": [
    {
     "name": "stdout",
     "output_type": "stream",
     "text": [
      "\n",
      "Full name of month: April\n"
     ]
    }
   ],
   "source": [
    "res=cd.strftime(\"%B\")\n",
    "print(\"\\nFull name of month:\",res)\n"
   ]
  },
  {
   "cell_type": "code",
   "execution_count": 16,
   "id": "520710fc",
   "metadata": {},
   "outputs": [
    {
     "name": "stdout",
     "output_type": "stream",
     "text": [
      "\n",
      "Days of the year: 097\n"
     ]
    }
   ],
   "source": [
    "res=cd.strftime(\"%j\") \n",
    "print(\"\\nDays of the year:\", res)\n"
   ]
  },
  {
   "cell_type": "code",
   "execution_count": 17,
   "id": "50db91aa",
   "metadata": {},
   "outputs": [
    {
     "name": "stdout",
     "output_type": "stream",
     "text": [
      "\n",
      "Shortcut for %m/%d/%y (e.g., 04/18/12): 04/07/25\n"
     ]
    }
   ],
   "source": [
    "res=cd.strftime(\"%D\") \n",
    "print(\"\\nShortcut for %m/%d/%y (e.g., 04/18/12):\", res)\n"
   ]
  },
  {
   "cell_type": "code",
   "execution_count": 18,
   "id": "e9dba64f",
   "metadata": {},
   "outputs": [
    {
     "name": "stdout",
     "output_type": "stream",
     "text": [
      "\n",
      "Two-digit day [01, 31]: 07\n"
     ]
    }
   ],
   "source": [
    "res=cd.strftime(\"%d\") \n",
    "print(\"\\nTwo-digit day [01, 31]:\", res)\n"
   ]
  },
  {
   "cell_type": "code",
   "execution_count": 19,
   "id": "ac423cfa",
   "metadata": {},
   "outputs": [
    {
     "name": "stdout",
     "output_type": "stream",
     "text": [
      "\n",
      "Short version of day Mon\n"
     ]
    }
   ],
   "source": [
    "res=cd.strftime(\"%a\")\n",
    "print(\"\\nShort version of day\", res)\n"
   ]
  },
  {
   "cell_type": "code",
   "execution_count": 20,
   "id": "16c791a3",
   "metadata": {},
   "outputs": [
    {
     "name": "stdout",
     "output_type": "stream",
     "text": [
      "\n",
      "Full name of a day: A\n"
     ]
    }
   ],
   "source": [
    "res=cd.strftime(\"A\")\n",
    "print(\"\\nFull name of a day:\", res)\n"
   ]
  },
  {
   "cell_type": "code",
   "execution_count": 21,
   "id": "016a588f",
   "metadata": {},
   "outputs": [
    {
     "name": "stdout",
     "output_type": "stream",
     "text": [
      "\n",
      "Hour (24-hour clock) [00, 23]: 12\n"
     ]
    }
   ],
   "source": [
    "res=cd.strftime(\"%H\") \n",
    "print(\"\\nHour (24-hour clock) [00, 23]:\",res)\n"
   ]
  },
  {
   "cell_type": "code",
   "execution_count": 22,
   "id": "4e0b66ef",
   "metadata": {},
   "outputs": [
    {
     "name": "stdout",
     "output_type": "stream",
     "text": [
      "\n",
      "Hour (12-hour clock) [01, 12] 12\n"
     ]
    }
   ],
   "source": [
    "res=cd.strftime(\"%I\") \n",
    "print(\"\\nHour (12-hour clock) [01, 12]\",res)\n"
   ]
  },
  {
   "cell_type": "code",
   "execution_count": 23,
   "id": "95f9df09",
   "metadata": {},
   "outputs": [
    {
     "name": "stdout",
     "output_type": "stream",
     "text": [
      "\n",
      "Two-digit minute [00, 59]: 48\n"
     ]
    }
   ],
   "source": [
    "res=cd.strftime(\"%M\")\n",
    "print(\"\\nTwo-digit minute [00, 59]:\", res)\n"
   ]
  },
  {
   "cell_type": "code",
   "execution_count": 24,
   "id": "a9bac17b",
   "metadata": {},
   "outputs": [
    {
     "name": "stdout",
     "output_type": "stream",
     "text": [
      "\n",
      "Second (00, 61] (seconds 60, 61 account for leap seconds): 12\n"
     ]
    }
   ],
   "source": [
    "res=cd.strftime(\"%S\")\n",
    "print(\"\\nSecond (00, 61] (seconds 60, 61 account for leap seconds):\",res)\n"
   ]
  },
  {
   "cell_type": "code",
   "execution_count": 25,
   "id": "d80789ea",
   "metadata": {},
   "outputs": [
    {
     "name": "stdout",
     "output_type": "stream",
     "text": [
      "\n",
      "Shortcut for %Y-%m-%d (eg, 2012-4-18): 2025-04-07\n"
     ]
    }
   ],
   "source": [
    "res=cd.strftime(\"%F\") \n",
    "print(\"\\nShortcut for %Y-%m-%d (eg, 2012-4-18):\",res)\n"
   ]
  },
  {
   "cell_type": "code",
   "execution_count": 26,
   "id": "27882227",
   "metadata": {},
   "outputs": [
    {
     "name": "stdout",
     "output_type": "stream",
     "text": [
      "\n",
      "Microsecond as an integer, zero-padded (from 000000 to 999999); 424939\n"
     ]
    }
   ],
   "source": [
    "res=cd.strftime(\"%f\") \n",
    "print(\"\\nMicrosecond as an integer, zero-padded (from 000000 to 999999);\", res)\n"
   ]
  },
  {
   "cell_type": "code",
   "execution_count": 27,
   "id": "6d4df578",
   "metadata": {},
   "outputs": [
    {
     "name": "stdout",
     "output_type": "stream",
     "text": [
      "\n",
      "Locale equivalent of AM or PM: PM\n"
     ]
    }
   ],
   "source": [
    "res=cd.strftime(\"%p\")\n",
    "print(\"\\nLocale equivalent of AM or PM:\", res)\n"
   ]
  },
  {
   "cell_type": "code",
   "execution_count": 28,
   "id": "1920d2c2",
   "metadata": {},
   "outputs": [
    {
     "name": "stdout",
     "output_type": "stream",
     "text": [
      "\n",
      "Locale-appropriate formatted date (eg, in the United States, May 1, 2012 yields '05/01/2012) 04/07/25\n"
     ]
    }
   ],
   "source": [
    "res=cd.strftime(\"%x\")\n",
    "print(\"\\nLocale-appropriate formatted date (eg, in the United States, May 1, 2012 yields '05/01/2012)\", res)\n"
   ]
  },
  {
   "cell_type": "code",
   "execution_count": 29,
   "id": "bfa80e2f",
   "metadata": {},
   "outputs": [
    {
     "name": "stdout",
     "output_type": "stream",
     "text": [
      "\n",
      "Locale-appropriate time (e.g., '04:24:12 PM'): 12:48:12\n"
     ]
    }
   ],
   "source": [
    "res=cd.strftime(\"%X\")\n",
    "print(\"\\nLocale-appropriate time (e.g., '04:24:12 PM'):\",res)\n"
   ]
  },
  {
   "cell_type": "code",
   "execution_count": 30,
   "id": "effa0d9c",
   "metadata": {},
   "outputs": [
    {
     "name": "stdout",
     "output_type": "stream",
     "text": [
      "Date Index \n",
      " 2011-01-02    1.899852\n",
      "2011-01-05    0.128341\n",
      "2011-01-07    0.990144\n",
      "2011-01-08    0.134386\n",
      "2011-01-10    0.491337\n",
      "2011-01-12   -0.379004\n",
      "dtype: float64\n"
     ]
    }
   ],
   "source": [
    "#TIME SERIES 3\n",
    "import pandas as pd\n",
    "import numpy as np\n",
    "from datetime import datetime\n",
    "\n",
    "#create a date variable that contains the dates\n",
    "dates = [datetime(2011, 1, 2),\n",
    "         datetime(2011, 1, 5),\n",
    "         datetime(2011, 1, 7),\n",
    "         datetime(2011, 1, 8),\n",
    "         datetime(2011, 1, 10),\n",
    "         datetime(2011, 1, 12)]\n",
    "\n",
    "#with this date object, create a series\n",
    "ts = pd.Series(np.random.randn(6), index=dates)\n",
    "print(\"Date Index \\n\",ts)\n"
   ]
  },
  {
   "cell_type": "code",
   "execution_count": 31,
   "id": "1572b34c",
   "metadata": {},
   "outputs": [
    {
     "name": "stdout",
     "output_type": "stream",
     "text": [
      "\n",
      "Date Index alone from the series: \n",
      " DatetimeIndex(['2011-01-02', '2011-01-05', '2011-01-07', '2011-01-08',\n",
      "               '2011-01-10', '2011-01-12'],\n",
      "              dtype='datetime64[ns]', freq=None)\n"
     ]
    }
   ],
   "source": [
    "print(\"\\nDate Index alone from the series: \\n\",ts.index)"
   ]
  },
  {
   "cell_type": "code",
   "execution_count": 32,
   "id": "c08a9553",
   "metadata": {},
   "outputs": [
    {
     "name": "stdout",
     "output_type": "stream",
     "text": [
      "\n",
      "Second index:\n",
      " 2011-01-07 00:00:00\n"
     ]
    }
   ],
   "source": [
    "stamp=ts.index[2]\n",
    "print(\"\\nSecond index:\\n\", stamp)\n"
   ]
  },
  {
   "cell_type": "code",
   "execution_count": 33,
   "id": "d5d8a1dc",
   "metadata": {},
   "outputs": [
    {
     "name": "stdout",
     "output_type": "stream",
     "text": [
      "\n",
      "Daterange up to 1000 days:\n",
      " 2000-01-01   -0.439373\n",
      "2000-01-02   -1.486027\n",
      "2000-01-03   -1.475026\n",
      "2000-01-04    1.031262\n",
      "2000-01-05    0.984097\n",
      "                ...   \n",
      "2002-09-22   -0.969982\n",
      "2002-09-23    0.293505\n",
      "2002-09-24    0.036211\n",
      "2002-09-25   -0.319198\n",
      "2002-09-26   -0.559652\n",
      "Freq: D, Length: 1000, dtype: float64\n"
     ]
    }
   ],
   "source": [
    "#play like a ball with long-times series\n",
    "longer_ts=pd.Series(np.random.randn(1000),\n",
    "                    index=pd.date_range(\"2000-01-01\",periods=1000))\n",
    "print(\"\\nDaterange up to 1000 days:\\n\",longer_ts)\n"
   ]
  },
  {
   "cell_type": "code",
   "execution_count": 34,
   "id": "ccf3aace",
   "metadata": {},
   "outputs": [
    {
     "name": "stdout",
     "output_type": "stream",
     "text": [
      "\n",
      "Date range-2001 year:\n",
      " 2001-01-01    0.063389\n",
      "2001-01-02   -1.033987\n",
      "2001-01-03    0.778260\n",
      "2001-01-04   -1.605667\n",
      "2001-01-05   -0.242212\n",
      "                ...   \n",
      "2001-12-27    0.010637\n",
      "2001-12-28    1.651908\n",
      "2001-12-29    0.061225\n",
      "2001-12-30   -0.587743\n",
      "2001-12-31   -0.981833\n",
      "Freq: D, Length: 365, dtype: float64\n"
     ]
    }
   ],
   "source": [
    "print(\"\\nDate range-2001 year:\\n\", longer_ts[\"2001\"])\n"
   ]
  },
  {
   "cell_type": "code",
   "execution_count": 35,
   "id": "c6c21436",
   "metadata": {},
   "outputs": [
    {
     "name": "stdout",
     "output_type": "stream",
     "text": [
      "\n",
      "Date range-05 month 2001 year:\n",
      " 2001-05-01   -0.935938\n",
      "2001-05-02   -1.671715\n",
      "2001-05-03    1.213853\n",
      "2001-05-04   -1.617010\n",
      "2001-05-05   -0.321566\n",
      "2001-05-06   -1.704224\n",
      "2001-05-07    0.415414\n",
      "2001-05-08    3.349741\n",
      "2001-05-09   -1.997700\n",
      "2001-05-10    0.590344\n",
      "2001-05-11    1.869039\n",
      "2001-05-12    1.238782\n",
      "2001-05-13   -1.832880\n",
      "2001-05-14   -1.687228\n",
      "2001-05-15   -1.520332\n",
      "2001-05-16    0.102131\n",
      "2001-05-17    0.775144\n",
      "2001-05-18    0.784764\n",
      "2001-05-19   -0.899575\n",
      "2001-05-20   -0.594242\n",
      "2001-05-21   -1.446208\n",
      "2001-05-22   -0.251262\n",
      "2001-05-23   -0.093851\n",
      "2001-05-24   -0.639043\n",
      "2001-05-25   -0.180526\n",
      "2001-05-26    1.165910\n",
      "2001-05-27   -0.456261\n",
      "2001-05-28    0.780588\n",
      "2001-05-29   -1.282867\n",
      "2001-05-30   -1.205556\n",
      "2001-05-31   -1.733112\n",
      "Freq: D, dtype: float64\n"
     ]
    }
   ],
   "source": [
    "print(\"\\nDate range-05 month 2001 year:\\n\", longer_ts[\"2001-05\"])"
   ]
  },
  {
   "cell_type": "code",
   "execution_count": 36,
   "id": "f653dc33",
   "metadata": {},
   "outputs": [
    {
     "name": "stdout",
     "output_type": "stream",
     "text": [
      "\n",
      "Date range-first few dates in 2000 year:\n",
      " 2000-01-01   -0.439373\n",
      "2000-01-02   -1.486027\n",
      "2000-01-03   -1.475026\n",
      "2000-01-04    1.031262\n",
      "2000-01-05    0.984097\n",
      "Freq: D, dtype: float64\n"
     ]
    }
   ],
   "source": [
    "print(\"\\nDate range-first few dates in 2000 year:\\n\",longer_ts[\"2000\"].head())\n"
   ]
  },
  {
   "cell_type": "code",
   "execution_count": 37,
   "id": "c2e2a73b",
   "metadata": {},
   "outputs": [
    {
     "name": "stdout",
     "output_type": "stream",
     "text": [
      "\n",
      "Date range-first 15 dates in 02 month 2001 year:\n",
      " 2000-02-01   -1.264913\n",
      "2000-02-02    1.133961\n",
      "2000-02-03    1.286669\n",
      "2000-02-04   -0.795461\n",
      "2000-02-05   -0.316115\n",
      "2000-02-06    0.785520\n",
      "2000-02-07    0.208111\n",
      "2000-02-08   -0.155497\n",
      "2000-02-09    0.620502\n",
      "2000-02-10   -0.124308\n",
      "2000-02-11    0.401680\n",
      "2000-02-12    0.711475\n",
      "2000-02-13    0.849915\n",
      "2000-02-14   -0.655533\n",
      "2000-02-15    0.136735\n",
      "Freq: D, dtype: float64\n"
     ]
    }
   ],
   "source": [
    "print(\"\\nDate range-first 15 dates in 02 month 2001 year:\\n\",longer_ts[\"2000-02\"].head(15))\n"
   ]
  },
  {
   "cell_type": "code",
   "execution_count": 38,
   "id": "3b766028",
   "metadata": {},
   "outputs": [
    {
     "name": "stdout",
     "output_type": "stream",
     "text": [
      "\n",
      "Date range-rom 26-9-2001:\n",
      " 2000-09-26   -0.386704\n",
      "2000-09-27    0.110949\n",
      "2000-09-28    0.559155\n",
      "2000-09-29    0.633248\n",
      "2000-09-30   -1.632297\n",
      "                ...   \n",
      "2002-09-22   -0.969982\n",
      "2002-09-23    0.293505\n",
      "2002-09-24    0.036211\n",
      "2002-09-25   -0.319198\n",
      "2002-09-26   -0.559652\n",
      "Freq: D, Length: 731, dtype: float64\n"
     ]
    }
   ],
   "source": [
    "print(\"\\nDate range-rom 26-9-2001:\\n\",longer_ts[datetime(2000,9,26):])\n"
   ]
  },
  {
   "cell_type": "code",
   "execution_count": 39,
   "id": "c07c8b79",
   "metadata": {},
   "outputs": [
    {
     "name": "stdout",
     "output_type": "stream",
     "text": [
      "\n",
      "Date range from 26-9-2001 to 25-9- 2002:\n",
      " 2001-09-26    1.404324\n",
      "2001-09-27    0.739509\n",
      "2001-09-28   -1.361195\n",
      "2001-09-29   -0.840924\n",
      "2001-09-30   -1.324955\n",
      "                ...   \n",
      "2002-09-21   -0.562933\n",
      "2002-09-22   -0.969982\n",
      "2002-09-23    0.293505\n",
      "2002-09-24    0.036211\n",
      "2002-09-25   -0.319198\n",
      "Freq: D, Length: 365, dtype: float64\n"
     ]
    }
   ],
   "source": [
    "print(\"\\nDate range from 26-9-2001 to 25-9- 2002:\\n\",longer_ts[datetime(2001,9,26):datetime(2002,9,25)])\n"
   ]
  },
  {
   "cell_type": "code",
   "execution_count": 40,
   "id": "6cc0098a",
   "metadata": {},
   "outputs": [
    {
     "name": "stdout",
     "output_type": "stream",
     "text": [
      "Date range:\n",
      " DatetimeIndex(['2020-08-15', '2020-08-16', '2020-08-17', '2020-08-18',\n",
      "               '2020-08-19', '2020-08-20', '2020-08-21', '2020-08-22',\n",
      "               '2020-08-23', '2020-08-24', '2020-08-25', '2020-08-26',\n",
      "               '2020-08-27', '2020-08-28', '2020-08-29', '2020-08-30',\n",
      "               '2020-08-31', '2020-09-01'],\n",
      "              dtype='datetime64[ns]', freq='D')\n"
     ]
    }
   ],
   "source": [
    "#TIME SERIES 4 \n",
    "import pandas as pd\n",
    "import numpy as np\n",
    "from datetime import datetime\n",
    "ran=pd.date_range(\"2020-08-15\",\"2020-09-01\")\n",
    "print(\"Date range:\\n\",ran)\n"
   ]
  },
  {
   "cell_type": "code",
   "execution_count": 41,
   "id": "4bfc55aa",
   "metadata": {},
   "outputs": [
    {
     "name": "stdout",
     "output_type": "stream",
     "text": [
      "\n",
      "Date range with periods and default day frequency:\n",
      " DatetimeIndex(['2020-07-15', '2020-07-16', '2020-07-17', '2020-07-18',\n",
      "               '2020-07-19', '2020-07-20', '2020-07-21', '2020-07-22',\n",
      "               '2020-07-23', '2020-07-24'],\n",
      "              dtype='datetime64[ns]', freq='D')\n"
     ]
    }
   ],
   "source": [
    "ran=pd.date_range(\"2020-07-15\", periods=10) \n",
    "print(\"\\nDate range with periods and default day frequency:\\n\",ran)\n"
   ]
  },
  {
   "cell_type": "code",
   "execution_count": 56,
   "id": "e09cab0d",
   "metadata": {},
   "outputs": [
    {
     "name": "stdout",
     "output_type": "stream",
     "text": [
      "\n",
      "Date range with periods and hour frequency:\n",
      " DatetimeIndex(['2020-07-15 00:00:00', '2020-07-15 01:00:00',\n",
      "               '2020-07-15 02:00:00', '2020-07-15 03:00:00',\n",
      "               '2020-07-15 04:00:00', '2020-07-15 05:00:00',\n",
      "               '2020-07-15 06:00:00', '2020-07-15 07:00:00',\n",
      "               '2020-07-15 08:00:00', '2020-07-15 09:00:00'],\n",
      "              dtype='datetime64[ns]', freq='H')\n"
     ]
    }
   ],
   "source": [
    "ran=pd.date_range(\"2020-07-15\", periods=10, freq='H')\n",
    "print(\"\\nDate range with periods and hour frequency:\\n\",ran)\n",
    "ran=pd.date_range(\"2020-07-15\", periods=10, freq='H')\n"
   ]
  },
  {
   "cell_type": "code",
   "execution_count": 43,
   "id": "05c91fbf",
   "metadata": {},
   "outputs": [
    {
     "name": "stdout",
     "output_type": "stream",
     "text": [
      "\n",
      "Date range with periods and month frequency:\n",
      " PeriodIndex(['2020-10', '2020-11', '2020-12', '2021-01', '2021-02', '2021-03',\n",
      "             '2021-04', '2021-05', '2021-06', '2021-07'],\n",
      "            dtype='period[M]')\n"
     ]
    }
   ],
   "source": [
    "ran=pd.period_range(\"2020-10\", periods=10, freq=\"M\") \n",
    "print(\"\\nDate range with periods and month frequency:\\n\",ran)\n"
   ]
  },
  {
   "cell_type": "code",
   "execution_count": 44,
   "id": "8fd67cf1",
   "metadata": {},
   "outputs": [
    {
     "ename": "SyntaxError",
     "evalue": "invalid syntax (2753564949.py, line 3)",
     "output_type": "error",
     "traceback": [
      "\u001b[1;36m  Cell \u001b[1;32mIn[44], line 3\u001b[1;36m\u001b[0m\n\u001b[1;33m    <ipython-input-8-e528f2e6b9e5>:1: FutureWarning: 'H' is deprecated and will be removed in a future version, please use 'h' instead.\u001b[0m\n\u001b[1;37m    ^\u001b[0m\n\u001b[1;31mSyntaxError\u001b[0m\u001b[1;31m:\u001b[0m invalid syntax\n"
     ]
    }
   ],
   "source": [
    "ran=pd.timedelta_range(0, periods=8, freq=\"H\")\n",
    "print(\"\\nZero day with hour frequency periods:\\n\",ran)\n",
    "<ipython-input-8-e528f2e6b9e5>:1: FutureWarning: 'H' is deprecated and will be removed in a future version, please use 'h' instead.\n",
    "  ran=pd.timedelta_range(0, periods=8, freq=\"H\")\n"
   ]
  },
  {
   "cell_type": "code",
   "execution_count": 45,
   "id": "374ff4ca",
   "metadata": {},
   "outputs": [
    {
     "ename": "SyntaxError",
     "evalue": "invalid syntax (109779442.py, line 12)",
     "output_type": "error",
     "traceback": [
      "\u001b[1;36m  Cell \u001b[1;32mIn[45], line 12\u001b[1;36m\u001b[0m\n\u001b[1;33m    //<ipython-input-1-d39a36850452>:1: DeprecationWarning:\u001b[0m\n\u001b[1;37m    ^\u001b[0m\n\u001b[1;31mSyntaxError\u001b[0m\u001b[1;31m:\u001b[0m invalid syntax\n"
     ]
    }
   ],
   "source": [
    "#TIME SERIES  5 \n",
    "import pandas as pd\n",
    "import numpy as np\n",
    "from datetime import datetime\n",
    "dates = [datetime(2020,1,5),\n",
    "         datetime(2020,1,10),\n",
    "         datetime(2020,1,15),\n",
    "         datetime(2020,1,20),\n",
    "         datetime(2020,1,25)]\n",
    "ts = pd.Series(np.random.randn(5), index=dates)\n",
    "print(\"\\nWith this date object, create a series with datetime index:\\n\",ts)\n",
    "//<ipython-input-1-d39a36850452>:1: DeprecationWarning: \n",
    "Pyarrow will become a required dependency of pandas in the next major release of pandas (pandas 3.0),\n",
    "(to allow more performant data types, such as the Arrow string type, and better interoperability with other libraries)\n",
    "but was not found to be installed on your system.\n",
    "If this would cause problems for you,\n",
    "please provide us feedback at https://github.com/pandas-dev/pandas/issues/54466\n",
    "// import pandas as pd\n"
   ]
  },
  {
   "cell_type": "code",
   "execution_count": 46,
   "id": "aec8daf4",
   "metadata": {},
   "outputs": [
    {
     "name": "stdout",
     "output_type": "stream",
     "text": [
      "\n",
      "Truncate method to truncate datetime series \n",
      " 2011-01-02    1.899852\n",
      "2011-01-05    0.128341\n",
      "2011-01-07    0.990144\n",
      "2011-01-08    0.134386\n",
      "2011-01-10    0.491337\n",
      "2011-01-12   -0.379004\n",
      "dtype: float64\n"
     ]
    }
   ],
   "source": [
    "res=ts.truncate(after=\"1/15/2020\")\n",
    "print(\"\\nTruncate method to truncate datetime series \\n\", res)\n"
   ]
  },
  {
   "cell_type": "code",
   "execution_count": 49,
   "id": "2080ba47",
   "metadata": {},
   "outputs": [
    {
     "name": "stdout",
     "output_type": "stream",
     "text": [
      "\n",
      "Date range with day periods.\n",
      " DatetimeIndex(['2022-10-02', '2022-10-09', '2022-10-16', '2022-10-23',\n",
      "               '2022-10-30', '2022-11-06', '2022-11-13', '2022-11-20',\n",
      "               '2022-11-27', '2022-12-04'],\n",
      "              dtype='datetime64[ns]', freq='W-SUN')\n"
     ]
    }
   ],
   "source": [
    "da=pd.date_range(\"10/1/2022\", periods=10, freq=\"W-SUN\")\n",
    "print(\"\\nDate range with day periods.\\n\",da)\n"
   ]
  },
  {
   "cell_type": "code",
   "execution_count": 50,
   "id": "1befb038",
   "metadata": {},
   "outputs": [
    {
     "name": "stdout",
     "output_type": "stream",
     "text": [
      "\n",
      "Duplicate datetime index:\n",
      " 2020-01-01    0\n",
      "2020-01-02    1\n",
      "2020-01-02    2\n",
      "2020-01-02    3\n",
      "2020-01-03    4\n",
      "dtype: int32\n"
     ]
    }
   ],
   "source": [
    "date=pd.DatetimeIndex([\"1/1/2020\",\"1/2/2020\",\"1/2/2020\",\"1/2/2020\",\"1/3/2020\"])\n",
    "ts1=pd.Series(np.arange(5), index=date)\n",
    "print(\"\\nDuplicate datetime index:\\n\",ts1)\n"
   ]
  },
  {
   "cell_type": "code",
   "execution_count": 51,
   "id": "7501b8bd",
   "metadata": {},
   "outputs": [
    {
     "name": "stdout",
     "output_type": "stream",
     "text": [
      "\n",
      "Repeated date counts:\n",
      " 2020-01-01    1\n",
      "2020-01-02    3\n",
      "2020-01-03    1\n",
      "dtype: int64\n"
     ]
    }
   ],
   "source": [
    "group=ts1.groupby(level=0)\n",
    "print(\"\\nRepeated date counts:\\n\",group.count())\n"
   ]
  },
  {
   "cell_type": "code",
   "execution_count": 53,
   "id": "552045e5",
   "metadata": {},
   "outputs": [
    {
     "name": "stdout",
     "output_type": "stream",
     "text": [
      "\n",
      "Multi-column DataFrame with datatime index:\n",
      "                    A         B         C         D\n",
      "2022-10-02 -0.925628  0.133633  0.884902  0.356929\n",
      "2022-10-09 -0.148538 -1.536002  0.295247 -0.639046\n",
      "2022-10-16 -1.431454  0.715138 -0.459963 -1.239751\n",
      "2022-10-23 -0.350848 -0.839448  0.155905 -0.752762\n",
      "2022-10-30 -0.669608 -1.444948  1.965223 -0.259311\n",
      "2022-11-06 -0.088796 -1.519374  0.822021 -0.410533\n",
      "2022-11-13 -3.090629  1.728347 -0.331506 -0.690173\n",
      "2022-11-20  1.824881  0.360728 -0.009278  0.923260\n",
      "2022-11-27 -0.348001  0.344122  1.749160 -1.007987\n",
      "2022-12-04  1.885870  1.784276  0.144851  0.339181\n"
     ]
    }
   ],
   "source": [
    "long_df=pd.DataFrame(np.random.randn(10,4),index=da,columns=list(\"ABCD\"))\n",
    "print(\"\\nMulti-column DataFrame with datatime index:\\n\",long_df)\n"
   ]
  },
  {
   "cell_type": "code",
   "execution_count": null,
   "id": "e43666c0",
   "metadata": {},
   "outputs": [],
   "source": []
  }
 ],
 "metadata": {
  "kernelspec": {
   "display_name": "Python 3 (ipykernel)",
   "language": "python",
   "name": "python3"
  },
  "language_info": {
   "codemirror_mode": {
    "name": "ipython",
    "version": 3
   },
   "file_extension": ".py",
   "mimetype": "text/x-python",
   "name": "python",
   "nbconvert_exporter": "python",
   "pygments_lexer": "ipython3",
   "version": "3.10.9"
  }
 },
 "nbformat": 4,
 "nbformat_minor": 5
}
