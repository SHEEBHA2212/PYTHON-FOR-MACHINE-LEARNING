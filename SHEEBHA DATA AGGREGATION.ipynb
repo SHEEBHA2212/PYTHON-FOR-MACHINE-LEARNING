{
 "cells": [
  {
   "cell_type": "code",
   "execution_count": 1,
   "id": "229940c5",
   "metadata": {},
   "outputs": [
    {
     "name": "stdout",
     "output_type": "stream",
     "text": [
      "\n",
      "Original Dataframe:\n",
      "       Name category  value  score\n",
      "0    Alice        A      2     83\n",
      "1      Bob        B      1     91\n",
      "2  Charlie        A      1     63\n",
      "3    Alice        B      3     60\n",
      "4      Bob        A      1     79\n",
      "5  Charlie        B      2     61\n"
     ]
    }
   ],
   "source": [
    "import numpy as np\n",
    "import pandas as pd\n",
    "df=pd.DataFrame({'Name':['Alice', 'Bob', 'Charlie', 'Alice', 'Bob', 'Charlie'],\n",
    "'category':['A', 'B', 'A', 'B', 'A', 'B'],\n",
    "'value':np.random.randint(1, 5, size=6),\n",
    "'score':np.random.randint(60, 100, size=6)\n",
    "})\n",
    "print(\"\\nOriginal Dataframe:\\n\",df)"
   ]
  },
  {
   "cell_type": "code",
   "execution_count": 2,
   "id": "7671187e",
   "metadata": {},
   "outputs": [
    {
     "name": "stdout",
     "output_type": "stream",
     "text": [
      "\n",
      "Group by name and Aggregation with one column:\n",
      "       Name  value\n",
      "0    Alice      5\n",
      "1      Bob      2\n",
      "2  Charlie      3\n"
     ]
    }
   ],
   "source": [
    "#Data grouping and Aggregation: with one column sum\n",
    "df1=df.groupby(('Name'),as_index=False)['value'].sum()\n",
    "print(\"\\nGroup by name and Aggregation with one column:\\n\",df1)"
   ]
  },
  {
   "cell_type": "code",
   "execution_count": 3,
   "id": "f3579481",
   "metadata": {},
   "outputs": [
    {
     "name": "stdout",
     "output_type": "stream",
     "text": [
      "\n",
      "Group by name and Aggregation with two column:\n",
      "       Name  value  score\n",
      "0    Alice      5    143\n",
      "1      Bob      2    170\n",
      "2  Charlie      3    124\n",
      "\n",
      "Group by name and Aggregation with one column using agg function:\n",
      "       Name  value\n",
      "0    Alice      5\n",
      "1      Bob      2\n",
      "2  Charlie      3\n",
      "\n",
      "Group by name and multiple Aggregation functions :\n",
      "         value              score      \n",
      "          sum mean min max   sum  mean\n",
      "Name                                  \n",
      "Alice       5  2.5   2   3   143  71.5\n",
      "Bob         2  1.0   1   1   170  85.0\n",
      "Charlie     3  1.5   1   2   124  62.0\n"
     ]
    }
   ],
   "source": [
    "#Data grouping and Aggregation: with two column sum\n",
    "df2=df.groupby(('Name'),as_index=False)[['value','score']].sum()\n",
    "print(\"\\nGroup by name and Aggregation with two column:\\n\",df2)\n",
    "\n",
    "#Data grouping and Aggregation: with one column sum\n",
    "df3=df.groupby(('Name'),as_index=False)['value'].agg('sum')\n",
    "print(\"\\nGroup by name and Aggregation with one column using agg function:\\n\",df3)\n",
    "\n",
    "#Group by 'Name' and calculate multiple aggregations\n",
    "df4 = df.groupby('Name').agg({\n",
    "'value': ['sum', 'mean', 'min', 'max'],\n",
    "'score': ['sum', 'mean']})\n",
    "\n",
    "print(\"\\nGroup by name and multiple Aggregation functions :\\n\", df4)"
   ]
  },
  {
   "cell_type": "code",
   "execution_count": null,
   "id": "22edcb8d",
   "metadata": {},
   "outputs": [],
   "source": []
  }
 ],
 "metadata": {
  "kernelspec": {
   "display_name": "Python 3 (ipykernel)",
   "language": "python",
   "name": "python3"
  },
  "language_info": {
   "codemirror_mode": {
    "name": "ipython",
    "version": 3
   },
   "file_extension": ".py",
   "mimetype": "text/x-python",
   "name": "python",
   "nbconvert_exporter": "python",
   "pygments_lexer": "ipython3",
   "version": "3.10.9"
  }
 },
 "nbformat": 4,
 "nbformat_minor": 5
}
